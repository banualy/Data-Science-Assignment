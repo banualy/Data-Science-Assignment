{
 "cells": [
  {
   "cell_type": "markdown",
   "id": "b6ec8c4e-7e94-441f-850d-2b792c67b52d",
   "metadata": {},
   "source": [
    "# Data Science Tools and Ecosystem\n",
    "\n"
   ]
  },
  {
   "cell_type": "markdown",
   "id": "d356fe8a-aed2-4aef-9a5b-caf21e39e2c9",
   "metadata": {},
   "source": [
    "In this notebook, Data Science Tools and Ecosystem are summarized.\n"
   ]
  },
  {
   "cell_type": "markdown",
   "id": "1b62d28b-b81a-4a2d-b815-e2cbfa6ca19f",
   "metadata": {},
   "source": [
    "**Objectives**\n",
    "- List popular languages for Data Science\n",
    "- Libraries for Data Science\n",
    "- Application Programming Interfaces\n",
    "- Introduction to GitHub\n"
   ]
  },
  {
   "cell_type": "markdown",
   "id": "5fa2ded0-aabc-4be5-bf5c-45ea2af48cf2",
   "metadata": {},
   "source": [
    "Some of the popular languages that Data Scientists use are:\n",
    "1. Python\n",
    "2. R\n",
    "3. Julia"
   ]
  },
  {
   "cell_type": "markdown",
   "id": "2ee2d16a-e3ab-4904-8b5d-c20c0bb484f8",
   "metadata": {},
   "source": [
    "Some of the commonly used libraries used by Data Scientists include:\n",
    "1. Pandas\n",
    "2. PyTorch\n",
    "3. TensorFlow"
   ]
  },
  {
   "cell_type": "markdown",
   "id": "dbb6f8e5-778f-4306-b7e9-3b5553839176",
   "metadata": {},
   "source": [
    "|Data Science Tools|\n",
    "|------------------|\n",
    "|Jupyter Notebook|\n",
    "|RStudio|\n",
    "|MATLAB|"
   ]
  },
  {
   "cell_type": "markdown",
   "id": "0450f13a-7a8d-4a17-b587-a6b0f5faf49e",
   "metadata": {},
   "source": [
    "### Below are a few examples of evaluating arithmetic expressions in Python\n"
   ]
  },
  {
   "cell_type": "code",
   "execution_count": 1,
   "id": "a248399f-1f35-4cb2-b490-2ecb63edf430",
   "metadata": {
    "tags": []
   },
   "outputs": [
    {
     "name": "stdout",
     "output_type": "stream",
     "text": [
      "17\n"
     ]
    }
   ],
   "source": [
    "#This a simple arithmetic expression to mutiply then add integers\n",
    "print(3*4+5)"
   ]
  },
  {
   "cell_type": "code",
   "execution_count": 2,
   "id": "edb2f6b4-0918-45e1-87e5-90a6b54d600e",
   "metadata": {
    "tags": []
   },
   "outputs": [
    {
     "name": "stdout",
     "output_type": "stream",
     "text": [
      "3.3333333333333335\n"
     ]
    }
   ],
   "source": [
    "#This will convert 200 minutes to hours by diving by 60\n",
    "print(200/60)"
   ]
  },
  {
   "cell_type": "markdown",
   "id": "0d323ee4-8a2a-4b24-ad60-6d7c11c68796",
   "metadata": {},
   "source": [
    "## Author\n",
    "Banu Alili"
   ]
  },
  {
   "cell_type": "code",
   "execution_count": null,
   "id": "e559b726-cbf7-45e8-b15b-85d5011a07e6",
   "metadata": {},
   "outputs": [],
   "source": []
  }
 ],
 "metadata": {
  "kernelspec": {
   "display_name": "Python",
   "language": "python",
   "name": "conda-env-python-py"
  },
  "language_info": {
   "codemirror_mode": {
    "name": "ipython",
    "version": 3
   },
   "file_extension": ".py",
   "mimetype": "text/x-python",
   "name": "python",
   "nbconvert_exporter": "python",
   "pygments_lexer": "ipython3",
   "version": "3.7.12"
  }
 },
 "nbformat": 4,
 "nbformat_minor": 5
}
